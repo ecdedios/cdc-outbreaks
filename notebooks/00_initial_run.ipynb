{
 "cells": [
  {
   "cell_type": "code",
   "execution_count": null,
   "id": "f30df250-b858-4b8c-88c6-4db2a91cd7e2",
   "metadata": {},
   "outputs": [],
   "source": [
    "import pandas as pd\n",
    "import matplotlib.pyplot as plt\n",
    "import networkx as nx\n",
    "from neo4j import GraphDatabase"
   ]
  },
  {
   "cell_type": "code",
   "execution_count": null,
   "id": "a670f642-4f3d-4ede-95ac-f75c3ef989fa",
   "metadata": {},
   "outputs": [],
   "source": [
    "# to print out all the outputs\n",
    "from IPython.core.interactiveshell import InteractiveShell\n",
    "InteractiveShell.ast_node_interactivity = \"all\"\n",
    "\n",
    "# set display options\n",
    "pd.set_option('display.max_columns', None)\n",
    "pd.set_option('display.max_rows', None)\n",
    "pd.set_option('display.max_colwidth', None)"
   ]
  },
  {
   "cell_type": "code",
   "execution_count": null,
   "id": "4711791f-c6c1-447d-9351-d0f2655ecc3e",
   "metadata": {},
   "outputs": [],
   "source": [
    "# Read a csv file\n",
    "df = pd.read_csv('../data/NORS_20250114.csv', low_memory=False)"
   ]
  },
  {
   "cell_type": "code",
   "execution_count": null,
   "id": "b28b4bd2-8ed5-4e86-8ea3-622098d23e18",
   "metadata": {},
   "outputs": [],
   "source": [
    "df.head()"
   ]
  },
  {
   "cell_type": "code",
   "execution_count": null,
   "id": "6c69e21f-8889-4217-ac47-7e8579922e1d",
   "metadata": {},
   "outputs": [],
   "source": [
    "df.info()"
   ]
  },
  {
   "cell_type": "code",
   "execution_count": null,
   "id": "c796829c-2a1f-4873-bc01-5c74b03dd460",
   "metadata": {},
   "outputs": [],
   "source": [
    "df = df[df[\"Year\"] >= 2009]"
   ]
  },
  {
   "cell_type": "code",
   "execution_count": null,
   "id": "d8a6037c-8c08-4c6d-85dd-44323393e4dc",
   "metadata": {},
   "outputs": [],
   "source": []
  },
  {
   "cell_type": "code",
   "execution_count": null,
   "id": "07bf5036-e4b9-481d-a7fa-23bb1c0f1e31",
   "metadata": {},
   "outputs": [],
   "source": []
  },
  {
   "cell_type": "code",
   "execution_count": null,
   "id": "113aebce-bcd6-4f3c-9024-f59615cb5979",
   "metadata": {},
   "outputs": [],
   "source": []
  },
  {
   "cell_type": "code",
   "execution_count": null,
   "id": "58361093-c6c7-473b-9efe-b151bcf38dd4",
   "metadata": {},
   "outputs": [],
   "source": [
    "def show_missing(df):\n",
    "    \"\"\"\n",
    "    Takes a dataframe and returns a dataframe with stats\n",
    "    on missing and null values with their percentages.\n",
    "    \"\"\"\n",
    "    null_count = df.isnull().sum()\n",
    "    null_percentage = (null_count / df.shape[0]) * 100\n",
    "    empty_count = pd.Series(((df == ' ') | (df == '')).sum())\n",
    "    empty_percentage = (empty_count / df.shape[0]) * 100\n",
    "    nan_count = pd.Series(((df == 'nan') | (df == 'NaN')).sum())\n",
    "    nan_percentage = (nan_count / df.shape[0]) * 100\n",
    "    dfx = pd.DataFrame({'num_missing': null_count, 'missing_percentage': null_percentage,\n",
    "                         'num_empty': empty_count, 'empty_percentage': empty_percentage,\n",
    "                         'nan_count': nan_count, 'nan_percentage': nan_percentage})\n",
    "    return dfx"
   ]
  },
  {
   "cell_type": "code",
   "execution_count": null,
   "id": "19b6f01f-a732-466a-a456-1d7d329d8fe4",
   "metadata": {},
   "outputs": [],
   "source": [
    "show_missing(df)"
   ]
  },
  {
   "cell_type": "code",
   "execution_count": null,
   "id": "e4eced7a-6a79-4964-9921-afa3d5257574",
   "metadata": {},
   "outputs": [],
   "source": [
    "df.describe()"
   ]
  },
  {
   "cell_type": "code",
   "execution_count": null,
   "id": "48212d94-ef74-439d-82aa-792e1b8551f7",
   "metadata": {},
   "outputs": [],
   "source": [
    "df.shape"
   ]
  },
  {
   "cell_type": "code",
   "execution_count": null,
   "id": "0d356c76-9c74-4da1-b90d-21802f536d96",
   "metadata": {},
   "outputs": [],
   "source": [
    "animal_df = df[df[\"Animal Type\"].notna()]\n",
    "animal_df.head()\n",
    "animal_df.shape"
   ]
  },
  {
   "cell_type": "code",
   "execution_count": null,
   "id": "c0843474-c5de-4def-a39f-19a33a69fe7c",
   "metadata": {},
   "outputs": [],
   "source": [
    "show_missing(animal_df)"
   ]
  },
  {
   "cell_type": "code",
   "execution_count": null,
   "id": "4bcc97f7-4d24-4584-94d6-63fb9c163278",
   "metadata": {},
   "outputs": [],
   "source": [
    "animal_df['Year'].value_counts(dropna=False)"
   ]
  },
  {
   "cell_type": "code",
   "execution_count": null,
   "id": "80920653-ffdf-4e6d-a6ab-7a180ee91e23",
   "metadata": {},
   "outputs": [],
   "source": [
    "animal_df_20 = animal_df[animal_df[\"Year\"] >= 2009]\n",
    "animal_df_20.head()\n",
    "animal_df_20.shape"
   ]
  },
  {
   "cell_type": "code",
   "execution_count": null,
   "id": "cfd5bf8a-9c61-484c-a19d-a00befdf5bd9",
   "metadata": {},
   "outputs": [],
   "source": [
    "def get_values(df, columns):\n",
    "    \"\"\"\n",
    "    Take a dataframe and a list of columns and\n",
    "    returns the value counts for the columns.\n",
    "    \"\"\"\n",
    "    for column in columns:\n",
    "        print(column)\n",
    "        print('=====================================')\n",
    "        print(df[column].value_counts(dropna=False))\n",
    "        print('\\n')\n",
    "\n",
    "def show_values(df, param):\n",
    "    if param == 'all':\n",
    "        get_values(df, df.columns)\n",
    "    else:\n",
    "        get_values(df, param) "
   ]
  },
  {
   "cell_type": "code",
   "execution_count": null,
   "id": "057470ec-0846-4608-9d66-bed517313b0f",
   "metadata": {},
   "outputs": [],
   "source": [
    "show_values(animal_df_20, ['Primary Mode', 'Etiology', 'Animal Type'])"
   ]
  },
  {
   "cell_type": "code",
   "execution_count": null,
   "id": "f1e91f85-65d9-442a-9f0d-1d2eb8c8ae47",
   "metadata": {},
   "outputs": [],
   "source": [
    "df = animal_df_20[['Etiology',\n",
    "                     'Illnesses',\n",
    "                     'Animal Type'\n",
    "                    ]]"
   ]
  },
  {
   "cell_type": "code",
   "execution_count": null,
   "id": "85e75d48-248d-44da-9597-470f0342b9d7",
   "metadata": {},
   "outputs": [],
   "source": [
    "df.shape"
   ]
  },
  {
   "cell_type": "code",
   "execution_count": null,
   "id": "afa34692-e4db-47a0-97b6-6cfcbf97fdd1",
   "metadata": {},
   "outputs": [],
   "source": [
    "df.columns"
   ]
  },
  {
   "cell_type": "code",
   "execution_count": null,
   "id": "2afd1948-4020-4f7e-81d1-a6b8525d8a0a",
   "metadata": {},
   "outputs": [],
   "source": [
    "show_values(df, ['Etiology', 'Animal Type'])"
   ]
  },
  {
   "cell_type": "code",
   "execution_count": null,
   "id": "12111361-7f56-4d5c-a536-22ddac9dc0cd",
   "metadata": {},
   "outputs": [],
   "source": [
    "# Split the 'Animal Type' column by ';' and explode\n",
    "exploded_df = df.assign(**{'Animal Type': df['Animal Type'].str.split(';')}).explode('Animal Type')"
   ]
  },
  {
   "cell_type": "code",
   "execution_count": null,
   "id": "5b973c84-ea04-49af-b031-c98ca17e1ebc",
   "metadata": {},
   "outputs": [],
   "source": [
    "exploded_df.shape"
   ]
  },
  {
   "cell_type": "code",
   "execution_count": null,
   "id": "0a46c739-ed08-4810-b6e4-f446e8cd7775",
   "metadata": {},
   "outputs": [],
   "source": [
    "exploded_df.columns"
   ]
  },
  {
   "cell_type": "code",
   "execution_count": null,
   "id": "5d3fe53f-f803-4a12-a0fd-84dd3adca759",
   "metadata": {},
   "outputs": [],
   "source": [
    "# Split the 'Etiology' column by ';' and explode\n",
    "exploded_df = exploded_df.assign(**{'Etiology': df['Etiology'].str.split(';')}).explode('Etiology')"
   ]
  },
  {
   "cell_type": "code",
   "execution_count": null,
   "id": "610f568a-72f8-4f7b-9941-ea87226f9e76",
   "metadata": {},
   "outputs": [],
   "source": [
    "df = exploded_df.copy()"
   ]
  },
  {
   "cell_type": "code",
   "execution_count": null,
   "id": "18f494b0-9b61-4ee0-9eef-d09816875ab4",
   "metadata": {},
   "outputs": [],
   "source": [
    "show_values(df, ['Etiology', 'Animal Type'])"
   ]
  },
  {
   "cell_type": "code",
   "execution_count": null,
   "id": "f58925e4-0770-4396-9188-541e7c89a446",
   "metadata": {},
   "outputs": [],
   "source": [
    "df.shape"
   ]
  },
  {
   "cell_type": "code",
   "execution_count": null,
   "id": "566f5b30-18d8-4f94-a6e7-0f1328992d97",
   "metadata": {},
   "outputs": [],
   "source": []
  }
 ],
 "metadata": {
  "kernelspec": {
   "display_name": "Python 3 (ipykernel)",
   "language": "python",
   "name": "python3"
  },
  "language_info": {
   "codemirror_mode": {
    "name": "ipython",
    "version": 3
   },
   "file_extension": ".py",
   "mimetype": "text/x-python",
   "name": "python",
   "nbconvert_exporter": "python",
   "pygments_lexer": "ipython3",
   "version": "3.12.4"
  }
 },
 "nbformat": 4,
 "nbformat_minor": 5
}
